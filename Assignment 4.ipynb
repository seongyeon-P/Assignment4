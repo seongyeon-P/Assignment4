{
 "cells": [
  {
   "cell_type": "markdown",
   "id": "2c42064b",
   "metadata": {},
   "source": [
    "## 1. LeetCode 225"
   ]
  },
  {
   "cell_type": "code",
   "execution_count": 6,
   "id": "214cf77b",
   "metadata": {},
   "outputs": [],
   "source": [
    "class MyStack(object):\n",
    "\n",
    "    def __init__(self):\n",
    "        self.q1=collections.deque()\n",
    "        self.q2=collections.deque()\n",
    "        \n",
    "\n",
    "    def push(self, x):\n",
    "        self.q2.append(x)\n",
    "        while self.q1:\n",
    "            self.q2.append(self.q1.popleft())\n",
    "            \n",
    "        self.q1,self.q2 = self.q2,self.q1\n",
    "        \n",
    "\n",
    "    def pop(self):\n",
    "        return self.q1.popleft()\n",
    "        \n",
    "\n",
    "    def top(self):\n",
    "        return self.q1[0]\n",
    "        \n",
    "\n",
    "    def empty(self):\n",
    "        return not self.q1"
   ]
  },
  {
   "cell_type": "markdown",
   "id": "8bbda752",
   "metadata": {},
   "source": [
    "1. push(x)\n",
    "- 새로운 값을 넣을 때, q2에 먼저 넣고, 기존 q1의 모든 요소를 q2 뒤에 붙인 다음, 둘을 swap해서 항상 q1 앞에 최근 요소가 오도록 정렬\n",
    "2. pop()\n",
    "- 항상 q1의 가장 앞에 최근에 추가한 요소가 있으므로 그냥 popleft() 하면 됨\n",
    "3. top()\n",
    "- q1[0]으로 맨 앞 요소를 반환\n",
    "4. empty()\n",
    "- q1이 비어 있는지 확인한다"
   ]
  },
  {
   "cell_type": "markdown",
   "id": "ae981bba",
   "metadata": {},
   "source": [
    "## 2. LeetCode 232"
   ]
  },
  {
   "cell_type": "code",
   "execution_count": 7,
   "id": "093fdda2",
   "metadata": {},
   "outputs": [],
   "source": [
    "class MyQueue(object):\n",
    "\n",
    "    def __init__(self):\n",
    "        self.stack_in = []\n",
    "        self.stack_out = []\n",
    "\n",
    "    def push(self, x):\n",
    "        self.stack_in.append(x)\n",
    "\n",
    "    def pop(self):\n",
    "        if not self.stack_out:\n",
    "            while self.stack_in:\n",
    "                self.stack_out.append(self.stack_in.pop())\n",
    "        return self.stack_out.pop()\n",
    "\n",
    "    def peek(self):\n",
    "        if not self.stack_out:\n",
    "            while self.stack_in:\n",
    "                self.stack_out.append(self.stack_in.pop())\n",
    "        return self.stack_out[-1]\n",
    "\n",
    "    def empty(self):\n",
    "        return not self.stack_in and not self.stack_out"
   ]
  },
  {
   "cell_type": "markdown",
   "id": "3e0a8229",
   "metadata": {},
   "source": [
    "1. push(x)\n",
    "- stack_in에 요소 추가\n",
    "- 새 요소를 입력 스택에 그냥 넣기기\n",
    "2. pop()\n",
    "- 출력 스택이 비어 있으면 입력 스택의 모든 요소를 뒤집어서 옮기기\n",
    "- stack_in을 뒤집어서 stack_out에 넣으면, 가장 먼저 들어온 데이터가 stack_out의 맨 위로 간다\n",
    "3. peek()\n",
    "- pop과 같은 구조지만 pop하지 않고 마지막 요소만 보기\n",
    "4. empty()\n",
    "- 둘 다 비어있으면 큐가 비어 있음"
   ]
  },
  {
   "cell_type": "markdown",
   "id": "721c983b",
   "metadata": {},
   "source": [
    "## 3. 큐 연습문제"
   ]
  }
 ],
 "metadata": {
  "kernelspec": {
   "display_name": "Python 3",
   "language": "python",
   "name": "python3"
  },
  "language_info": {
   "codemirror_mode": {
    "name": "ipython",
    "version": 3
   },
   "file_extension": ".py",
   "mimetype": "text/x-python",
   "name": "python",
   "nbconvert_exporter": "python",
   "pygments_lexer": "ipython3",
   "version": "3.13.2"
  }
 },
 "nbformat": 4,
 "nbformat_minor": 5
}
