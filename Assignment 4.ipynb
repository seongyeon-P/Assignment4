{
 "cells": [
  {
   "cell_type": "markdown",
   "id": "2c42064b",
   "metadata": {},
   "source": [
    "# 1. LeetCode 225"
   ]
  },
  {
   "cell_type": "code",
   "execution_count": 6,
   "id": "214cf77b",
   "metadata": {},
   "outputs": [],
   "source": [
    "class MyStack(object):\n",
    "\n",
    "    def __init__(self):\n",
    "        self.q1=collections.deque()\n",
    "        self.q2=collections.deque()\n",
    "        \n",
    "\n",
    "    def push(self, x):\n",
    "        self.q2.append(x)\n",
    "        while self.q1:\n",
    "            self.q2.append(self.q1.popleft())\n",
    "            \n",
    "        self.q1,self.q2 = self.q2,self.q1\n",
    "        \n",
    "\n",
    "    def pop(self):\n",
    "        return self.q1.popleft()\n",
    "        \n",
    "\n",
    "    def top(self):\n",
    "        return self.q1[0]\n",
    "        \n",
    "\n",
    "    def empty(self):\n",
    "        return not self.q1"
   ]
  },
  {
   "cell_type": "markdown",
   "id": "8bbda752",
   "metadata": {},
   "source": [
    "1. push(x)\n",
    "- 새로운 값을 넣을 때, q2에 먼저 넣고, 기존 q1의 모든 요소를 q2 뒤에 붙인 다음, 둘을 swap해서 항상 q1 앞에 최근 요소가 오도록 정렬\n",
    "2. pop()\n",
    "- 항상 q1의 가장 앞에 최근에 추가한 요소가 있으므로 그냥 popleft() 하면 됨\n",
    "3. top()\n",
    "- q1[0]으로 맨 앞 요소를 반환\n",
    "4. empty()\n",
    "- q1이 비어 있는지 확인한다"
   ]
  },
  {
   "cell_type": "markdown",
   "id": "ae981bba",
   "metadata": {},
   "source": [
    "# 2. LeetCode 232"
   ]
  },
  {
   "cell_type": "code",
   "execution_count": 7,
   "id": "093fdda2",
   "metadata": {},
   "outputs": [],
   "source": [
    "class MyQueue(object):\n",
    "\n",
    "    def __init__(self):\n",
    "        self.stack_in = []\n",
    "        self.stack_out = []\n",
    "\n",
    "    def push(self, x):\n",
    "        self.stack_in.append(x)\n",
    "\n",
    "    def pop(self):\n",
    "        if not self.stack_out:\n",
    "            while self.stack_in:\n",
    "                self.stack_out.append(self.stack_in.pop())\n",
    "        return self.stack_out.pop()\n",
    "\n",
    "    def peek(self):\n",
    "        if not self.stack_out:\n",
    "            while self.stack_in:\n",
    "                self.stack_out.append(self.stack_in.pop())\n",
    "        return self.stack_out[-1]\n",
    "\n",
    "    def empty(self):\n",
    "        return not self.stack_in and not self.stack_out"
   ]
  },
  {
   "cell_type": "markdown",
   "id": "3e0a8229",
   "metadata": {},
   "source": [
    "1. push(x)\n",
    "- stack_in에 요소 추가\n",
    "- 새 요소를 입력 스택에 그냥 넣기기\n",
    "2. pop()\n",
    "- 출력 스택이 비어 있으면 입력 스택의 모든 요소를 뒤집어서 옮기기\n",
    "- stack_in을 뒤집어서 stack_out에 넣으면, 가장 먼저 들어온 데이터가 stack_out의 맨 위로 간다\n",
    "3. peek()\n",
    "- pop과 같은 구조지만 pop하지 않고 마지막 요소만 보기\n",
    "4. empty()\n",
    "- 둘 다 비어있으면 큐가 비어 있음"
   ]
  },
  {
   "cell_type": "markdown",
   "id": "721c983b",
   "metadata": {},
   "source": [
    "# 3. 큐 연습문제"
   ]
  },
  {
   "cell_type": "markdown",
   "id": "fee99cea",
   "metadata": {},
   "source": [
    "## 01"
   ]
  },
  {
   "cell_type": "code",
   "execution_count": null,
   "id": "c80c0d2b",
   "metadata": {},
   "outputs": [],
   "source": [
    "class ListQueue:\n",
    "    def __init__(self):\n",
    "        self._queue = []\n",
    "\n",
    "    def enqueue(self, x):\n",
    "        # 맨 앞에 추가 (리스트의 index 0 위치)\n",
    "        self._queue.insert(0, x)\n",
    "\n",
    "    def dequeue(self):\n",
    "        # 맨 끝에서 제거 (리스트의 끝이 front)\n",
    "        return self._queue.pop()\n",
    "\n",
    "    def front(self):\n",
    "        # 맨 끝이 front\n",
    "        return self._queue[-1]\n",
    "\n",
    "    def isEmpty(self) -> bool:\n",
    "        return len(self._queue) == 0\n",
    "\n",
    "    def dequeueAll(self):\n",
    "        self._queue.clear()"
   ]
  },
  {
   "cell_type": "markdown",
   "id": "ae24bec2",
   "metadata": {},
   "source": [
    "## 02"
   ]
  },
  {
   "cell_type": "code",
   "execution_count": null,
   "id": "eae598f0",
   "metadata": {},
   "outputs": [],
   "source": [
    "from collections import deque\n",
    "\n",
    "def is_in_language(s):\n",
    "    if '$' not in s:\n",
    "        return False\n",
    "\n",
    "    left_queue = deque()\n",
    "    right_queue = deque()\n",
    "\n",
    "    parts = s.split('$', 1)  # 딱 한 번만 분리\n",
    "    left, right = parts[0], parts[1]\n",
    "\n",
    "    for char in left:\n",
    "        left_queue.append(char)\n",
    "    for char in right:\n",
    "        right_queue.append(char)\n",
    "\n",
    "    # 큐 앞에서 하나씩 꺼내며 비교\n",
    "    while left_queue and right_queue:\n",
    "        if left_queue.popleft() != right_queue.popleft():\n",
    "            return False\n",
    "\n",
    "    # 둘 다 비어야 완전히 같은 문자열\n",
    "    return not left_queue and not right_queue"
   ]
  },
  {
   "cell_type": "markdown",
   "id": "6ce66508",
   "metadata": {},
   "source": [
    "## 03"
   ]
  },
  {
   "cell_type": "code",
   "execution_count": null,
   "id": "ddbaebe7",
   "metadata": {},
   "outputs": [],
   "source": [
    "def copyQueue(a: LinkedQueue) -> LinkedQueue:\n",
    "    b = LinkedQueue()\n",
    "    for i in range(a._LinkedQueue__queue.size()):\n",
    "        item = a._LinkedQueue__queue.get(i)  # i번째 요소 가져오기\n",
    "        b.enqueue(item)  # 새로운 큐에 복사\n",
    "    return b"
   ]
  },
  {
   "cell_type": "markdown",
   "id": "cd2625f3",
   "metadata": {},
   "source": [
    "## 04"
   ]
  },
  {
   "cell_type": "code",
   "execution_count": null,
   "id": "dfb4176c",
   "metadata": {},
   "outputs": [],
   "source": [
    "class MyStack(object):\n",
    "\n",
    "    def __init__(self):\n",
    "        self.q1=collections.deque()\n",
    "        self.q2=collections.deque()\n",
    "        \n",
    "\n",
    "    def push(self, x):\n",
    "        self.q2.append(x)\n",
    "        while self.q1:\n",
    "            self.q2.append(self.q1.popleft())\n",
    "            \n",
    "        self.q1,self.q2 = self.q2,self.q1\n",
    "        \n",
    "\n",
    "    def pop(self):\n",
    "        return self.q1.popleft()"
   ]
  },
  {
   "cell_type": "markdown",
   "id": "e20ea126",
   "metadata": {},
   "source": [
    "## 05"
   ]
  },
  {
   "cell_type": "code",
   "execution_count": null,
   "id": "ff84bd0d",
   "metadata": {},
   "outputs": [],
   "source": [
    "class MyQueue:\n",
    "    def __init__(self):\n",
    "        self.stack1 = []\n",
    "        self.stack2 = []\n",
    "\n",
    "    def enqueue(self, x):\n",
    "        # 모든 요소를 stack1에서 stack2로 옮기기\n",
    "        while self.stack1:\n",
    "            self.stack2.append(self.stack1.pop())\n",
    "\n",
    "        # 새 요소 추가\n",
    "        self.stack1.append(x)\n",
    "\n",
    "        # 다시 stack2의 요소를 stack1으로 옮기기\n",
    "        while self.stack2:\n",
    "            self.stack1.append(self.stack2.pop())\n",
    "\n",
    "    def dequeue(self):\n",
    "        # stack1에서 바로 꺼내면 FIFO 순서\n",
    "        if self.isEmpty():\n",
    "            raise IndexError(\"Queue is empty\")\n",
    "        return self.stack1.pop()\n",
    "\n",
    "    def isEmpty(self):\n",
    "        return not self.stack1\n"
   ]
  },
  {
   "cell_type": "markdown",
   "id": "e6d517b9",
   "metadata": {},
   "source": [
    "## 06\n",
    "\n",
    "1. enqueueRear(x) -> 맨 뒤에 삽입\\\\\n",
    "시간 복잡도: O(1)\\\\\n",
    ":CircularLinkedList는 tail 포인터를 가지고 있다면, tail.next=new_node 식으로 바로 추가 가능하다\n",
    "\n",
    "2. dequeueFront()-> 맨 앞에 삭제 \\\\\n",
    "시간 복잡도: O(1) \\\\\n",
    ":head 노드를 head=head.next처럼 한 번에 바꿀 수 있다\n",
    "\n",
    "3. enqueueFront(x) -> 맨 앞에 삽입 \\\\\n",
    "시간 복잡도: O(1) \\\\\n",
    ":새 노드를 만들어서 new_node.next=head 한 뒤, head만 바꾸면 된다\n",
    "\n",
    "4. dequeueRear() -> 맨 뒤에서 삭제 \\\\\n",
    "시간 복잡도: O(n) \\\\\n",
    ":단방향 리스트라면 tail 노드의 이전 노드를 찾으려면 앞에서부터 순회해야 한다"
   ]
  },
  {
   "cell_type": "markdown",
   "id": "3c94167b",
   "metadata": {},
   "source": [
    "## 07\n",
    "\n",
    "1. enqueueRear(x) -> 맨 뒤에 삽입 \\\\\n",
    "시간 복잡도: O(n) \\\\\n",
    ": insert(i,x)를 i=size()로 호출해야하므로 -> 내부에서 getNode(i-1) 호출된다\n",
    "\n",
    "2. dequeueFront()-> 맨 앞에 삭제 \\\\\n",
    "시간 복잡도: O(1) \\\\\n",
    ": pop(0) 호출 -> getNode(-1) -> dummy부터 시작\n",
    "\n",
    "3. enqueueFront(x) -> 맨 앞에 삽입 \\\\\n",
    "시간 복잡도: O(1) \\\\\n",
    ": insert(0,x) -> dummy 바로 뒤에 추가\n",
    "\n",
    "4. dequeueRear() -> 맨 뒤에서 삭제 \\\\\n",
    "시간 복잡도: O(n) \\\\\n",
    ": pop(size()-1) -> getNode(size()-2) 필요"
   ]
  },
  {
   "cell_type": "markdown",
   "id": "c7657f29",
   "metadata": {},
   "source": [
    "## 08"
   ]
  },
  {
   "cell_type": "code",
   "execution_count": null,
   "id": "34f5128d",
   "metadata": {},
   "outputs": [],
   "source": [
    "class Deque:\n",
    "    def __init__(self):\n",
    "        self.__queue = []\n",
    "\n",
    "    def enqueueRear(self, x):\n",
    "        self.__queue.append(x)  # 맨 뒤에 삽입\n",
    "\n",
    "    def enqueueFront(self, x):\n",
    "        self.__queue.insert(0, x)  # 맨 앞에 삽입\n",
    "\n",
    "    def dequeueFront(self):\n",
    "        if self.isEmpty():\n",
    "            return None\n",
    "        return self.__queue.pop(0)  # 맨 앞에서 삭제\n",
    "\n",
    "    def dequeueRear(self):\n",
    "        if self.isEmpty():\n",
    "            return None\n",
    "        return self.__queue.pop()  # 맨 뒤에서 삭제\n",
    "\n",
    "    def front(self):\n",
    "        if self.isEmpty():\n",
    "            return None\n",
    "        return self.__queue[0]\n",
    "\n",
    "    def rear(self):\n",
    "        if self.isEmpty():\n",
    "            return None\n",
    "        return self.__queue[-1]\n",
    "\n",
    "    def isEmpty(self) -> bool:\n",
    "        return len(self.__queue) == 0\n",
    "\n",
    "    def dequeueAll(self):\n",
    "        self.__queue.clear()\n",
    "\n",
    "    def printDeque(self):\n",
    "        print(\"Deque from front:\", end=\" \")\n",
    "        for item in self.__queue:\n",
    "            print(item, end=\" \")\n",
    "        print()"
   ]
  }
 ],
 "metadata": {
  "kernelspec": {
   "display_name": "Python 3",
   "language": "python",
   "name": "python3"
  },
  "language_info": {
   "codemirror_mode": {
    "name": "ipython",
    "version": 3
   },
   "file_extension": ".py",
   "mimetype": "text/x-python",
   "name": "python",
   "nbconvert_exporter": "python",
   "pygments_lexer": "ipython3",
   "version": "3.13.2"
  }
 },
 "nbformat": 4,
 "nbformat_minor": 5
}
